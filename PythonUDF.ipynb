{
 "cells": [
  {
   "cell_type": "markdown",
   "id": "83a62637-f4f0-4d87-84d5-cc8da8bbe934",
   "metadata": {},
   "source": [
    "### Importing snowpark modules and creating snowpark session"
   ]
  },
  {
   "cell_type": "code",
   "execution_count": 1,
   "id": "12608fa0-b0c0-4173-b763-fc4ec98ad3f4",
   "metadata": {},
   "outputs": [],
   "source": [
    "from snowflake.snowpark.session import Session\n",
    "from snowflake.snowpark.functions import udf, avg, col,lit,call_udf\n",
    "from snowflake.snowpark.types import IntegerType, FloatType, StringType, BooleanType\n",
    "import pandas as pd\n",
    "from config import snowflake_udf_conn_prop"
   ]
  },
  {
   "cell_type": "code",
   "execution_count": 2,
   "id": "70fccacb-fc52-42d6-aff1-32fb70b86b89",
   "metadata": {},
   "outputs": [
    {
     "name": "stdout",
     "output_type": "stream",
     "text": [
      "(0, 5, 0, None)\n"
     ]
    }
   ],
   "source": [
    "from snowflake.snowpark import version\n",
    "print(version.VERSION)"
   ]
  },
  {
   "cell_type": "code",
   "execution_count": 3,
   "id": "3eb18a07-d5d9-4f4c-802d-0dc22944d2df",
   "metadata": {},
   "outputs": [
    {
     "name": "stdout",
     "output_type": "stream",
     "text": [
      "[Row(CURRENT_WAREHOUSE()='CLUSTER1', CURRENT_DATABASE()='UDFDEMO', CURRENT_SCHEMA()='PUBLIC')]\n"
     ]
    }
   ],
   "source": [
    "session = Session.builder.configs(snowflake_udf_conn_prop).create()\n",
    "print(session.sql('select current_warehouse(), current_database(), current_schema()').collect())"
   ]
  },
  {
   "cell_type": "markdown",
   "id": "b8b0e509-4774-4a9e-81e2-dabc60b7057d",
   "metadata": {},
   "source": [
    "### Create Stage,Sample Dataset"
   ]
  },
  {
   "cell_type": "code",
   "execution_count": 126,
   "id": "956ae0c2-218d-4e2e-b85d-80c7a15d6cba",
   "metadata": {},
   "outputs": [
    {
     "data": {
      "text/plain": [
       "[PutResult(source='Numops.py', target='Numops.py', source_size=202, target_size=208, source_compression='NONE', target_compression='NONE', status='UPLOADED', message='')]"
      ]
     },
     "execution_count": 126,
     "metadata": {},
     "output_type": "execute_result"
    }
   ],
   "source": [
    "from snowflake.snowpark.types import IntegerType\n",
    "# session.sql('drop stage pythonstage').collect()\n",
    "session.sql(\"create or replace stage pythonudfstage\").collect()\n",
    "session.sql(\"create or replace stage pythonsourcestage\").collect()\n",
    "session.file.put(\"utils/Numops.py\", \"@pythonsourcestage\", auto_compress=False,overwrite=True)"
   ]
  },
  {
   "cell_type": "code",
   "execution_count": 99,
   "id": "4522b9f0-49cf-477b-be7f-8bf8559dbce7",
   "metadata": {},
   "outputs": [],
   "source": [
    "session.get_imports()\n",
    "session.clear_imports()"
   ]
  },
  {
   "cell_type": "code",
   "execution_count": 150,
   "id": "af4de0f2-54fb-41fb-ba7f-1cafe07b4ea0",
   "metadata": {},
   "outputs": [
    {
     "data": {
      "text/plain": [
       "snowflake.snowpark.dataframe.DataFrame"
      ]
     },
     "execution_count": 150,
     "metadata": {},
     "output_type": "execute_result"
    }
   ],
   "source": [
    "df = session.create_dataframe([[10,20],[30,40],[60,70]], schema=[\"Col1\",\"Col2\"])\n",
    "type(df)"
   ]
  },
  {
   "cell_type": "code",
   "execution_count": 151,
   "id": "9f19c189-98b9-48e6-bf13-f9343fd9bc58",
   "metadata": {},
   "outputs": [
    {
     "data": {
      "text/html": [
       "<div>\n",
       "<style scoped>\n",
       "    .dataframe tbody tr th:only-of-type {\n",
       "        vertical-align: middle;\n",
       "    }\n",
       "\n",
       "    .dataframe tbody tr th {\n",
       "        vertical-align: top;\n",
       "    }\n",
       "\n",
       "    .dataframe thead th {\n",
       "        text-align: right;\n",
       "    }\n",
       "</style>\n",
       "<table border=\"1\" class=\"dataframe\">\n",
       "  <thead>\n",
       "    <tr style=\"text-align: right;\">\n",
       "      <th></th>\n",
       "      <th>COL1</th>\n",
       "      <th>COL2</th>\n",
       "    </tr>\n",
       "  </thead>\n",
       "  <tbody>\n",
       "    <tr>\n",
       "      <th>0</th>\n",
       "      <td>10</td>\n",
       "      <td>20</td>\n",
       "    </tr>\n",
       "    <tr>\n",
       "      <th>1</th>\n",
       "      <td>30</td>\n",
       "      <td>40</td>\n",
       "    </tr>\n",
       "    <tr>\n",
       "      <th>2</th>\n",
       "      <td>60</td>\n",
       "      <td>70</td>\n",
       "    </tr>\n",
       "  </tbody>\n",
       "</table>\n",
       "</div>"
      ],
      "text/plain": [
       "   COL1  COL2\n",
       "0    10    20\n",
       "1    30    40\n",
       "2    60    70"
      ]
     },
     "execution_count": 151,
     "metadata": {},
     "output_type": "execute_result"
    }
   ],
   "source": [
    "df.toPandas()"
   ]
  },
  {
   "cell_type": "code",
   "execution_count": 102,
   "id": "32651d0e-6bb3-4371-92bf-8cd6117e7010",
   "metadata": {},
   "outputs": [
    {
     "name": "stdout",
     "output_type": "stream",
     "text": [
      "--------------------------------\n",
      "|\"COL1\"  |\"COL2\"  |\"COL1_NEW\"  |\n",
      "--------------------------------\n",
      "|10      |20      |10          |\n",
      "|30      |40      |30          |\n",
      "--------------------------------\n",
      "\n"
     ]
    }
   ],
   "source": [
    "df.select(col(\"Col1\"),df.Col2,df['col1'].alias(\"col1_new\")).show()"
   ]
  },
  {
   "cell_type": "code",
   "execution_count": 103,
   "id": "050c55c8-f782-45f6-b5e3-1cdd6abf0eeb",
   "metadata": {},
   "outputs": [
    {
     "name": "stdout",
     "output_type": "stream",
     "text": [
      "--------------------------------\n",
      "|\"COL1\"  |\"COL2\"  |\"COL1_NEW\"  |\n",
      "--------------------------------\n",
      "|10      |20      |10          |\n",
      "|30      |40      |30          |\n",
      "--------------------------------\n",
      "\n"
     ]
    }
   ],
   "source": [
    "df.select(col(\"Col1\"),df.Col2,df['col1'].alias(\"col1_new\")).show()"
   ]
  },
  {
   "cell_type": "markdown",
   "id": "c81eb56b-6930-46ae-80d4-441abdb071c5",
   "metadata": {},
   "source": [
    "#### Creating Temporary and Permanent Python Scalar UDF\n",
    "     1. Create temp Snowpark python UDF in Snowflake\n",
    "     2. Using snowpark python UDF in Snowflake Dataframe API queries.\n",
    "     3. Create permanent Snowpark python UDF in Snowflake using:\n",
    "         - udf()\n",
    "         - session.udf.register()\n",
    "\n",
    "         "
   ]
  },
  {
   "cell_type": "code",
   "execution_count": 104,
   "id": "73fdf3f6-6eee-463d-8238-c1a2caede1e4",
   "metadata": {},
   "outputs": [],
   "source": [
    "# Temp UDF and calling this UDF in the below Snowpark DF queries\n",
    "@udf(return_type=FloatType(),replace=True)\n",
    "def MultipleNums(col1:float,col2:float)->float:\n",
    "    return col1*col2"
   ]
  },
  {
   "cell_type": "code",
   "execution_count": 97,
   "id": "66e80cdc-333b-4958-ac2e-be8d773bc3f4",
   "metadata": {},
   "outputs": [
    {
     "name": "stdout",
     "output_type": "stream",
     "text": [
      "----------------------------------\n",
      "|\"COL1\"  |\"COL2\"  |\"PRODOFNUMS\"  |\n",
      "----------------------------------\n",
      "|30      |40      |1200.0        |\n",
      "|10      |20      |200.0         |\n",
      "----------------------------------\n",
      "\n"
     ]
    }
   ],
   "source": [
    "df.select(df.Col1,df.Col2,MultipleNums(df.col2,df.col1).alias(\"ProdOfNums\")).show()"
   ]
  },
  {
   "attachments": {
    "767e229b-587b-475b-8a3a-5d1ad3271054.png": {
     "image/png": "[encoded data removed]"
    }
   },
   "cell_type": "raw",
   "id": "5a293936-2d9b-4962-bcfa-b182cf760d40",
   "metadata": {},
   "source": [
    "#### Image from Query history\n",
    "\n",
    "<!-- ![image.png](attachment:767e229b-587b-475b-8a3a-5d1ad3271054.png) -->\n",
    "<img src=\"UDF_1.png\" sytle=\"width:10px;height:10px\"/>\n"
   ]
  },
  {
   "cell_type": "code",
   "execution_count": 106,
   "id": "a3b53ea1-9b78-4285-b487-a910a6b052de",
   "metadata": {},
   "outputs": [],
   "source": [
    "# Creating Permanent python UDF \n",
    "@udf(name=\"udf_MultipleNums\",return_type=FloatType(),is_permanent=True,stage_location=\"@pythonudfstage\",replace=True)\n",
    "def MultipleNums(col1:float,col2:float)->float:\n",
    "    return col1*col2\n",
    "    "
   ]
  },
  {
   "cell_type": "code",
   "execution_count": 107,
   "id": "4704b7ed-94bf-488b-87f8-726b51e7f1a7",
   "metadata": {},
   "outputs": [
    {
     "name": "stdout",
     "output_type": "stream",
     "text": [
      "----------------------------------\n",
      "|\"COL1\"  |\"COL2\"  |\"PRODOFNUMS\"  |\n",
      "----------------------------------\n",
      "|10      |20      |200.0         |\n",
      "|30      |40      |1200.0        |\n",
      "----------------------------------\n",
      "\n"
     ]
    }
   ],
   "source": [
    "# we will call the permanent UDF we have created above in SF DataFrame API quries using call_udf() which takes the \n",
    "# function name, paramters to be passed to the function.\n",
    "\n",
    "df.select(df.Col1,df.Col2,call_udf(\"udf_MultipleNums\", df.col1,df.col2).alias(\"ProdOfNums\")).show()\n",
    "\n"
   ]
  },
  {
   "cell_type": "code",
   "execution_count": 108,
   "id": "a4c4b03b-b833-47ef-be43-25de303fd9e6",
   "metadata": {},
   "outputs": [],
   "source": [
    "def UDFNums(col1:float,col2:float)->float:\n",
    "    return col1*col2"
   ]
  },
  {
   "cell_type": "code",
   "execution_count": 109,
   "id": "85ecdf67-5cfa-42f9-824c-e0bb72abec6d",
   "metadata": {},
   "outputs": [
    {
     "data": {
      "text/plain": [
       "<snowflake.snowpark.udf.UserDefinedFunction at 0x7ff00bf3b400>"
      ]
     },
     "execution_count": 109,
     "metadata": {},
     "output_type": "execute_result"
    }
   ],
   "source": [
    "session.udf.register(\n",
    "    func= UDFNums,\n",
    "    name=\"udf_Regsiter_MultipleNums\",\n",
    "    input_types=[FloatType(), FloatType()],\n",
    "    is_permanent=True, \n",
    "    replace=True,\n",
    "    stage_location=\"@pythonudfstage\",\n",
    ")"
   ]
  },
  {
   "cell_type": "code",
   "execution_count": 24,
   "id": "04c5ecb4-ccca-4e09-b4d5-e4d25226e726",
   "metadata": {},
   "outputs": [
    {
     "name": "stdout",
     "output_type": "stream",
     "text": [
      "----------------------------------\n",
      "|\"COL1\"  |\"COL2\"  |\"PRODOFNUMS\"  |\n",
      "----------------------------------\n",
      "|30      |40      |1200.0        |\n",
      "|10      |20      |200.0         |\n",
      "----------------------------------\n",
      "\n"
     ]
    }
   ],
   "source": [
    "df.select(df.Col1,df.Col2,call_udf(\"udf_Regsiter_MultipleNums\",df.col2,df.col1).alias(\"ProdOfNums\")).show()"
   ]
  },
  {
   "cell_type": "code",
   "execution_count": 110,
   "id": "70517e84-6a33-4660-bc49-111ecc29bbcd",
   "metadata": {},
   "outputs": [
    {
     "data": {
      "text/plain": [
       "[]"
      ]
     },
     "execution_count": 110,
     "metadata": {},
     "output_type": "execute_result"
    }
   ],
   "source": [
    "session.sql('list @pythonsourcestage').collect()"
   ]
  },
  {
   "cell_type": "markdown",
   "id": "32dbd669-45f2-412f-b8bc-5d421e567116",
   "metadata": {},
   "source": [
    "#### Using existing modules and packages in Snowflake"
   ]
  },
  {
   "cell_type": "code",
   "execution_count": 114,
   "id": "31c14e65-f783-41e9-834c-c49da0799e39",
   "metadata": {},
   "outputs": [],
   "source": [
    "# Importing only module (Numops)\n",
    "\n",
    "from utils.Numops import *\n",
    "@udf(imports=[(\"utils/Numops.py\", \"utils/Numops\")])\n",
    "def lookup_function(col1:float,col2:float)->float:\n",
    "    return AddNums(col1,col2)\n",
    "    "
   ]
  },
  {
   "cell_type": "code",
   "execution_count": 115,
   "id": "8d99529a-1733-43b8-bb33-6ea1e2674068",
   "metadata": {},
   "outputs": [
    {
     "name": "stdout",
     "output_type": "stream",
     "text": [
      "-----------------------------------\n",
      "|\"COL1\"  |\"COL2\"  |\"SUMOFVALUES\"  |\n",
      "-----------------------------------\n",
      "|30      |40      |70.0           |\n",
      "|10      |20      |30.0           |\n",
      "-----------------------------------\n",
      "\n"
     ]
    }
   ],
   "source": [
    "df.select(df.Col1,df.Col2,lookup_function(df.col1,df.col2).alias(\"SumofValues\")).show()"
   ]
  },
  {
   "cell_type": "code",
   "execution_count": 152,
   "id": "11a84fd1-5ed1-48b6-8c94-7acf8583b030",
   "metadata": {},
   "outputs": [],
   "source": [
    "from utils.Numops import *\n",
    "@udf(name=\"udf_LookupFunction\",is_permanent=True,stage_location=\"@pythonudfstage\",replace=True,imports=[(\"utils/Numops.py\", \"utils/Numops\")])\n",
    "def lookup_function(col1:float,col2:float)->float:\n",
    "    return AddNums(col1,col2)\n",
    "    "
   ]
  },
  {
   "cell_type": "code",
   "execution_count": 153,
   "id": "0a8036f6-25cb-4f15-97de-13d0b6914ee6",
   "metadata": {},
   "outputs": [
    {
     "name": "stdout",
     "output_type": "stream",
     "text": [
      "-----------------------------------\n",
      "|\"COL1\"  |\"COL2\"  |\"SUMOFVALUES\"  |\n",
      "-----------------------------------\n",
      "|10      |20      |30.0           |\n",
      "|60      |70      |130.0          |\n",
      "|30      |40      |70.0           |\n",
      "-----------------------------------\n",
      "\n"
     ]
    }
   ],
   "source": [
    "df.select(df.Col1,df.Col2,call_udf(\"udf_LookupFunction\",df.col1,df.col2).alias(\"SumofValues\")).show()"
   ]
  },
  {
   "cell_type": "code",
   "execution_count": 120,
   "id": "588fec8d-afc5-4074-995e-752b8aadfd4c",
   "metadata": {},
   "outputs": [
    {
     "data": {
      "text/plain": [
       "[Row(status='NEWSTAGE successfully dropped.')]"
      ]
     },
     "execution_count": 120,
     "metadata": {},
     "output_type": "execute_result"
    }
   ],
   "source": [
    "session.sql(\"drop stage if exists newstage\").collect()"
   ]
  },
  {
   "cell_type": "code",
   "execution_count": 154,
   "id": "c1dfe1e7-256c-4797-a65a-7f0b74197132",
   "metadata": {},
   "outputs": [
    {
     "data": {
      "text/plain": [
       "[Row(status='Stage area NEWSTAGE successfully created.')]"
      ]
     },
     "execution_count": 154,
     "metadata": {},
     "output_type": "execute_result"
    }
   ],
   "source": [
    "session.sql(\"create or replace stage newstage\").collect()"
   ]
  },
  {
   "cell_type": "code",
   "execution_count": 155,
   "id": "d686daaa-003b-41d2-8c4f-e75f845a5ba2",
   "metadata": {},
   "outputs": [],
   "source": [
    "from utils.SampleCalc.getValues import basiccal as bs\n",
    "import sys\n",
    "session.add_import(\"utils\")\n",
    "# session.add_import(\"utils/SampleCalc/getValues.py\", import_path=\"utils.SampleCalc.getValues\")\n",
    "# session.add_import(\"utils/MathCalculations.py\", import_path=\"utils.MathCalculations\")\n",
    "\n",
    "@udf(name=\"udf_basiccalFunction\",is_permanent=True,stage_location=\"@newstage\",replace=True)\n",
    "def lookup_function2(col1:float,col2:float,funcname:str)->float:\n",
    "        val=bs(col1,col2,funcname)\n",
    "        return val"
   ]
  },
  {
   "cell_type": "code",
   "execution_count": 123,
   "id": "bbdff633-f8ed-4d26-a779-84c31426db0b",
   "metadata": {},
   "outputs": [
    {
     "name": "stdout",
     "output_type": "stream",
     "text": [
      "--------------------------------------------------------------\n",
      "|\"COL1\"  |\"COL2\"  |\"CALCVALUES\"  |\"ADDVALUES\"  |\"DIVVALUES\"  |\n",
      "--------------------------------------------------------------\n",
      "|10      |20      |200.0         |30.0         |0.5          |\n",
      "|30      |40      |1200.0        |70.0         |0.75         |\n",
      "--------------------------------------------------------------\n",
      "\n"
     ]
    }
   ],
   "source": [
    "df.select(df.Col1,df.Col2,call_udf(\"udf_basiccalFunction\",df.col1,df.col2,\"MulNums\").alias(\"CalcValues\") \\\n",
    "          # ,call_udf(\"udf_basiccalFunction\",df.col1,df.col2,\"AddNums\").alias(\"AddValues\"),\\\n",
    "          # ,call_udf(\"udf_basiccalFunction\",df.col1,df.col2,\"DivNums\").alias(\"DivValues\")\n",
    "         ).show()"
   ]
  },
  {
   "cell_type": "code",
   "execution_count": 124,
   "id": "dee7d615-82d4-418d-bb9f-146262b09518",
   "metadata": {},
   "outputs": [],
   "source": [
    "ops_udf = session.udf.register_from_file \\\n",
    "            ( \\\n",
    "                name=\"udf_AddNums\",\n",
    "                file_path=\"utils/Numops.py\",\n",
    "                func_name=\"AddNums\",\n",
    "                is_permanent=True,\n",
    "                stage_location=\"@pythonudfstage\",\n",
    "                input_types=[IntegerType(),FloatType()],\n",
    "                return_type=FloatType(),\n",
    "                replace=True\n",
    "            )"
   ]
  },
  {
   "cell_type": "code",
   "execution_count": 55,
   "id": "bf935dc4-2583-4763-9d33-01df951dcb2b",
   "metadata": {},
   "outputs": [
    {
     "name": "stdout",
     "output_type": "stream",
     "text": [
      "---------------------------------\n",
      "|\"COL1\"  |\"COL2\"  |\"SUMOFNUMS\"  |\n",
      "---------------------------------\n",
      "|10      |20      |30.0         |\n",
      "|30      |40      |70.0         |\n",
      "---------------------------------\n",
      "\n"
     ]
    }
   ],
   "source": [
    "df.select(df.Col1,df.Col2,ops_udf(df.col1,df.col2).alias(\"SumOfNums\")).show()"
   ]
  },
  {
   "cell_type": "code",
   "execution_count": 160,
   "id": "f7afe72b-7d1b-4d7f-b7bd-47a2aa89b05b",
   "metadata": {},
   "outputs": [],
   "source": [
    "ops_stage_udf = session.udf.register_from_file \\\n",
    "            ( \\\n",
    "                name=\"udf_AddNums_stage\",\n",
    "                file_path=\"@pythonsourcestage/Numops.py\",\n",
    "                func_name=\"AddNums\",\n",
    "                is_permanent=True,\n",
    "                stage_location=\"@pythonudfstage\",\n",
    "                input_types=[IntegerType(),FloatType()],\n",
    "                return_type=FloatType(),\n",
    "                replace=True\n",
    "            )"
   ]
  },
  {
   "cell_type": "code",
   "execution_count": 128,
   "id": "6861f04e-029b-4c20-9ac3-25e092dd20dc",
   "metadata": {},
   "outputs": [
    {
     "data": {
      "text/plain": [
       "[Row(name='pythonudfstage/110a53a7991f246ebd3b562f19b14dda/utils.zip', size=2288, md5='cb6bad09e4269e6378988036ba883408', last_modified='Mon, 2 May 2022 08:21:41 GMT'),\n",
       " Row(name='pythonudfstage/c24df528a7513b79ddf85ee7df8a2006/Numops.py.zip', size=336, md5='d993f6df7c6122ce43de56856734755c', last_modified='Mon, 2 May 2022 08:19:36 GMT'),\n",
       " Row(name='pythonudfstage/udf_AddNums/Numops.py', size=208, md5='1365fd0afeadd3d94e4d8021e7c2cfd7', last_modified='Mon, 2 May 2022 08:21:42 GMT')]"
      ]
     },
     "execution_count": 128,
     "metadata": {},
     "output_type": "execute_result"
    }
   ],
   "source": [
    "session.sql('list @pythonudfstage').collect()"
   ]
  },
  {
   "cell_type": "code",
   "execution_count": 161,
   "id": "d0e32a55-a69a-4014-9cbe-690cfbbca542",
   "metadata": {},
   "outputs": [
    {
     "name": "stdout",
     "output_type": "stream",
     "text": [
      "---------------------------------\n",
      "|\"COL1\"  |\"COL2\"  |\"SUMOFNUMS\"  |\n",
      "---------------------------------\n",
      "|30      |40      |70.0         |\n",
      "|60      |70      |130.0        |\n",
      "|10      |20      |30.0         |\n",
      "---------------------------------\n",
      "\n"
     ]
    }
   ],
   "source": [
    "df.select(df.Col1,df.Col2,ops_stage_udf(df.col1,df.col2).alias(\"SumOfNums\")).show()"
   ]
  },
  {
   "cell_type": "code",
   "execution_count": 131,
   "id": "34462b78-33b8-4669-8d1d-63eba904cb3b",
   "metadata": {},
   "outputs": [],
   "source": [
    "div_udf = session.udf.register_from_file \\\n",
    "            ( \\\n",
    "                name=\"udf_DivNums\",\n",
    "                file_path=\"@pythonsourcestage/Numops.py\",\n",
    "                func_name=\"DivNums\",\n",
    "                is_permanent=True,\n",
    "                stage_location=\"@pythonudfstage\",\n",
    "                input_types=[FloatType(),FloatType()],\n",
    "                return_type=FloatType(),\n",
    "                replace=True\n",
    "            )"
   ]
  },
  {
   "cell_type": "code",
   "execution_count": 132,
   "id": "2cbcedda-2e66-44ca-a544-88a3de1a978a",
   "metadata": {},
   "outputs": [
    {
     "data": {
      "text/html": [
       "<div>\n",
       "<style scoped>\n",
       "    .dataframe tbody tr th:only-of-type {\n",
       "        vertical-align: middle;\n",
       "    }\n",
       "\n",
       "    .dataframe tbody tr th {\n",
       "        vertical-align: top;\n",
       "    }\n",
       "\n",
       "    .dataframe thead th {\n",
       "        text-align: right;\n",
       "    }\n",
       "</style>\n",
       "<table border=\"1\" class=\"dataframe\">\n",
       "  <thead>\n",
       "    <tr style=\"text-align: right;\">\n",
       "      <th></th>\n",
       "      <th>COL1</th>\n",
       "      <th>COL2</th>\n",
       "      <th>DivOfNums(Col1/Col2)</th>\n",
       "    </tr>\n",
       "  </thead>\n",
       "  <tbody>\n",
       "    <tr>\n",
       "      <th>0</th>\n",
       "      <td>10</td>\n",
       "      <td>20</td>\n",
       "      <td>0.50</td>\n",
       "    </tr>\n",
       "    <tr>\n",
       "      <th>1</th>\n",
       "      <td>30</td>\n",
       "      <td>40</td>\n",
       "      <td>0.75</td>\n",
       "    </tr>\n",
       "  </tbody>\n",
       "</table>\n",
       "</div>"
      ],
      "text/plain": [
       "   COL1  COL2  DivOfNums(Col1/Col2)\n",
       "0    10    20                  0.50\n",
       "1    30    40                  0.75"
      ]
     },
     "execution_count": 132,
     "metadata": {},
     "output_type": "execute_result"
    }
   ],
   "source": [
    "df.select(df.Col1,df.Col2,div_udf(df.col1,df.col2).alias(\"DivOfNums(Col1/Col2)\")).toPandas()"
   ]
  },
  {
   "cell_type": "raw",
   "id": "99192d3d-137c-46f5-9a9f-74ee10740239",
   "metadata": {
    "tags": []
   },
   "source": [
    "### https://docs.snowflake.com/en/developer-guide/snowpark/reference/python/_autosummary/snowflake.snowpark.functions.html#snowflake.snowpark.functions.udf"
   ]
  },
  {
   "cell_type": "code",
   "execution_count": 133,
   "id": "7a803477-7359-4133-b80b-9b65ac7cd197",
   "metadata": {},
   "outputs": [
    {
     "data": {
      "text/html": [
       "<div>\n",
       "<style scoped>\n",
       "    .dataframe tbody tr th:only-of-type {\n",
       "        vertical-align: middle;\n",
       "    }\n",
       "\n",
       "    .dataframe tbody tr th {\n",
       "        vertical-align: top;\n",
       "    }\n",
       "\n",
       "    .dataframe thead th {\n",
       "        text-align: right;\n",
       "    }\n",
       "</style>\n",
       "<table border=\"1\" class=\"dataframe\">\n",
       "  <thead>\n",
       "    <tr style=\"text-align: right;\">\n",
       "      <th></th>\n",
       "      <th>FUNCTION_CATALOG</th>\n",
       "      <th>FUNCTION_SCHEMA</th>\n",
       "      <th>FUNCTION_NAME</th>\n",
       "      <th>FUNCTION_OWNER</th>\n",
       "      <th>ARGUMENT_SIGNATURE</th>\n",
       "      <th>DATA_TYPE</th>\n",
       "      <th>CHARACTER_MAXIMUM_LENGTH</th>\n",
       "      <th>CHARACTER_OCTET_LENGTH</th>\n",
       "      <th>NUMERIC_PRECISION</th>\n",
       "      <th>NUMERIC_PRECISION_RADIX</th>\n",
       "      <th>...</th>\n",
       "      <th>IS_EXTERNAL</th>\n",
       "      <th>API_INTEGRATION</th>\n",
       "      <th>CONTEXT_HEADERS</th>\n",
       "      <th>MAX_BATCH_ROWS</th>\n",
       "      <th>REQUEST_TRANSLATOR</th>\n",
       "      <th>RESPONSE_TRANSLATOR</th>\n",
       "      <th>COMPRESSION</th>\n",
       "      <th>IMPORTS</th>\n",
       "      <th>HANDLER</th>\n",
       "      <th>TARGET_PATH</th>\n",
       "    </tr>\n",
       "  </thead>\n",
       "  <tbody>\n",
       "    <tr>\n",
       "      <th>0</th>\n",
       "      <td>UDFDEMO</td>\n",
       "      <td>PUBLIC</td>\n",
       "      <td>SNOWPARK_TEMP_FUNCTION_1JEW784TXD</td>\n",
       "      <td>ACCOUNTADMIN</td>\n",
       "      <td>(ARG1 FLOAT, ARG2 FLOAT)</td>\n",
       "      <td>FLOAT</td>\n",
       "      <td>NaN</td>\n",
       "      <td>NaN</td>\n",
       "      <td>NaN</td>\n",
       "      <td>NaN</td>\n",
       "      <td>...</td>\n",
       "      <td>NO</td>\n",
       "      <td>None</td>\n",
       "      <td>None</td>\n",
       "      <td>NaN</td>\n",
       "      <td>None</td>\n",
       "      <td>None</td>\n",
       "      <td>None</td>\n",
       "      <td>[\"@UDFDEMO.PUBLIC.SNOWPARK_TEMP_STAGE_DLSEP0J6...</td>\n",
       "      <td>compute</td>\n",
       "      <td>None</td>\n",
       "    </tr>\n",
       "    <tr>\n",
       "      <th>1</th>\n",
       "      <td>UDFDEMO</td>\n",
       "      <td>PUBLIC</td>\n",
       "      <td>SNOWPARK_TEMP_FUNCTION_9QDV2AMME6</td>\n",
       "      <td>ACCOUNTADMIN</td>\n",
       "      <td>(ARG1 FLOAT, ARG2 FLOAT)</td>\n",
       "      <td>FLOAT</td>\n",
       "      <td>NaN</td>\n",
       "      <td>NaN</td>\n",
       "      <td>NaN</td>\n",
       "      <td>NaN</td>\n",
       "      <td>...</td>\n",
       "      <td>NO</td>\n",
       "      <td>None</td>\n",
       "      <td>None</td>\n",
       "      <td>NaN</td>\n",
       "      <td>None</td>\n",
       "      <td>None</td>\n",
       "      <td>None</td>\n",
       "      <td>None</td>\n",
       "      <td>compute</td>\n",
       "      <td>None</td>\n",
       "    </tr>\n",
       "    <tr>\n",
       "      <th>2</th>\n",
       "      <td>UDFDEMO</td>\n",
       "      <td>PUBLIC</td>\n",
       "      <td>SNOWPARK_TEMP_FUNCTION_CP6CJQAVI7</td>\n",
       "      <td>ACCOUNTADMIN</td>\n",
       "      <td>(ARG1 FLOAT, ARG2 FLOAT)</td>\n",
       "      <td>FLOAT</td>\n",
       "      <td>NaN</td>\n",
       "      <td>NaN</td>\n",
       "      <td>NaN</td>\n",
       "      <td>NaN</td>\n",
       "      <td>...</td>\n",
       "      <td>NO</td>\n",
       "      <td>None</td>\n",
       "      <td>None</td>\n",
       "      <td>NaN</td>\n",
       "      <td>None</td>\n",
       "      <td>None</td>\n",
       "      <td>None</td>\n",
       "      <td>None</td>\n",
       "      <td>compute</td>\n",
       "      <td>None</td>\n",
       "    </tr>\n",
       "    <tr>\n",
       "      <th>3</th>\n",
       "      <td>UDFDEMO</td>\n",
       "      <td>PUBLIC</td>\n",
       "      <td>SNOWPARK_TEMP_FUNCTION_FHRGOF050D</td>\n",
       "      <td>ACCOUNTADMIN</td>\n",
       "      <td>(ARG1 FLOAT, ARG2 FLOAT)</td>\n",
       "      <td>FLOAT</td>\n",
       "      <td>NaN</td>\n",
       "      <td>NaN</td>\n",
       "      <td>NaN</td>\n",
       "      <td>NaN</td>\n",
       "      <td>...</td>\n",
       "      <td>NO</td>\n",
       "      <td>None</td>\n",
       "      <td>None</td>\n",
       "      <td>NaN</td>\n",
       "      <td>None</td>\n",
       "      <td>None</td>\n",
       "      <td>None</td>\n",
       "      <td>[\"@UDFDEMO.PUBLIC.SNOWPARK_TEMP_STAGE_DLSEP0J6...</td>\n",
       "      <td>compute</td>\n",
       "      <td>None</td>\n",
       "    </tr>\n",
       "    <tr>\n",
       "      <th>4</th>\n",
       "      <td>UDFDEMO</td>\n",
       "      <td>PUBLIC</td>\n",
       "      <td>SNOWPARK_TEMP_FUNCTION_HUTMQRSKCL</td>\n",
       "      <td>ACCOUNTADMIN</td>\n",
       "      <td>(ARG1 FLOAT, ARG2 FLOAT)</td>\n",
       "      <td>FLOAT</td>\n",
       "      <td>NaN</td>\n",
       "      <td>NaN</td>\n",
       "      <td>NaN</td>\n",
       "      <td>NaN</td>\n",
       "      <td>...</td>\n",
       "      <td>NO</td>\n",
       "      <td>None</td>\n",
       "      <td>None</td>\n",
       "      <td>NaN</td>\n",
       "      <td>None</td>\n",
       "      <td>None</td>\n",
       "      <td>None</td>\n",
       "      <td>[\"@UDFDEMO.PUBLIC.SNOWPARK_TEMP_STAGE_DLSEP0J6...</td>\n",
       "      <td>compute</td>\n",
       "      <td>None</td>\n",
       "    </tr>\n",
       "    <tr>\n",
       "      <th>5</th>\n",
       "      <td>UDFDEMO</td>\n",
       "      <td>PUBLIC</td>\n",
       "      <td>SNOWPARK_TEMP_FUNCTION_LDG4QW4B61</td>\n",
       "      <td>ACCOUNTADMIN</td>\n",
       "      <td>(ARG1 FLOAT, ARG2 FLOAT)</td>\n",
       "      <td>FLOAT</td>\n",
       "      <td>NaN</td>\n",
       "      <td>NaN</td>\n",
       "      <td>NaN</td>\n",
       "      <td>NaN</td>\n",
       "      <td>...</td>\n",
       "      <td>NO</td>\n",
       "      <td>None</td>\n",
       "      <td>None</td>\n",
       "      <td>NaN</td>\n",
       "      <td>None</td>\n",
       "      <td>None</td>\n",
       "      <td>None</td>\n",
       "      <td>[\"@UDFDEMO.PUBLIC.SNOWPARK_TEMP_STAGE_DLSEP0J6...</td>\n",
       "      <td>compute</td>\n",
       "      <td>None</td>\n",
       "    </tr>\n",
       "    <tr>\n",
       "      <th>6</th>\n",
       "      <td>UDFDEMO</td>\n",
       "      <td>PUBLIC</td>\n",
       "      <td>SNOWPARK_TEMP_FUNCTION_Q4BWKVKMK5</td>\n",
       "      <td>ACCOUNTADMIN</td>\n",
       "      <td>(ARG1 FLOAT, ARG2 FLOAT)</td>\n",
       "      <td>FLOAT</td>\n",
       "      <td>NaN</td>\n",
       "      <td>NaN</td>\n",
       "      <td>NaN</td>\n",
       "      <td>NaN</td>\n",
       "      <td>...</td>\n",
       "      <td>NO</td>\n",
       "      <td>None</td>\n",
       "      <td>None</td>\n",
       "      <td>NaN</td>\n",
       "      <td>None</td>\n",
       "      <td>None</td>\n",
       "      <td>None</td>\n",
       "      <td>[\"@UDFDEMO.PUBLIC.SNOWPARK_TEMP_STAGE_DLSEP0J6...</td>\n",
       "      <td>compute</td>\n",
       "      <td>None</td>\n",
       "    </tr>\n",
       "    <tr>\n",
       "      <th>7</th>\n",
       "      <td>UDFDEMO</td>\n",
       "      <td>PUBLIC</td>\n",
       "      <td>SNOWPARK_TEMP_FUNCTION_Q4OXZ053BR</td>\n",
       "      <td>ACCOUNTADMIN</td>\n",
       "      <td>(ARG1 FLOAT)</td>\n",
       "      <td>FLOAT</td>\n",
       "      <td>NaN</td>\n",
       "      <td>NaN</td>\n",
       "      <td>NaN</td>\n",
       "      <td>NaN</td>\n",
       "      <td>...</td>\n",
       "      <td>NO</td>\n",
       "      <td>None</td>\n",
       "      <td>None</td>\n",
       "      <td>NaN</td>\n",
       "      <td>None</td>\n",
       "      <td>None</td>\n",
       "      <td>None</td>\n",
       "      <td>[\"@UDFDEMO.PUBLIC.SNOWPARK_TEMP_STAGE_DLSEP0J6...</td>\n",
       "      <td>compute</td>\n",
       "      <td>None</td>\n",
       "    </tr>\n",
       "    <tr>\n",
       "      <th>8</th>\n",
       "      <td>UDFDEMO</td>\n",
       "      <td>PUBLIC</td>\n",
       "      <td>SNOWPARK_TEMP_FUNCTION_QQLYQV27T6</td>\n",
       "      <td>ACCOUNTADMIN</td>\n",
       "      <td>(ARG1 FLOAT, ARG2 FLOAT)</td>\n",
       "      <td>FLOAT</td>\n",
       "      <td>NaN</td>\n",
       "      <td>NaN</td>\n",
       "      <td>NaN</td>\n",
       "      <td>NaN</td>\n",
       "      <td>...</td>\n",
       "      <td>NO</td>\n",
       "      <td>None</td>\n",
       "      <td>None</td>\n",
       "      <td>NaN</td>\n",
       "      <td>None</td>\n",
       "      <td>None</td>\n",
       "      <td>None</td>\n",
       "      <td>None</td>\n",
       "      <td>compute</td>\n",
       "      <td>None</td>\n",
       "    </tr>\n",
       "    <tr>\n",
       "      <th>9</th>\n",
       "      <td>UDFDEMO</td>\n",
       "      <td>PUBLIC</td>\n",
       "      <td>SNOWPARK_TEMP_FUNCTION_SPFRC0HPVB</td>\n",
       "      <td>ACCOUNTADMIN</td>\n",
       "      <td>(ARG1 FLOAT, ARG2 FLOAT)</td>\n",
       "      <td>FLOAT</td>\n",
       "      <td>NaN</td>\n",
       "      <td>NaN</td>\n",
       "      <td>NaN</td>\n",
       "      <td>NaN</td>\n",
       "      <td>...</td>\n",
       "      <td>NO</td>\n",
       "      <td>None</td>\n",
       "      <td>None</td>\n",
       "      <td>NaN</td>\n",
       "      <td>None</td>\n",
       "      <td>None</td>\n",
       "      <td>None</td>\n",
       "      <td>[\"@UDFDEMO.PUBLIC.SNOWPARK_TEMP_STAGE_DLSEP0J6...</td>\n",
       "      <td>compute</td>\n",
       "      <td>None</td>\n",
       "    </tr>\n",
       "    <tr>\n",
       "      <th>10</th>\n",
       "      <td>UDFDEMO</td>\n",
       "      <td>PUBLIC</td>\n",
       "      <td>SNOWPARK_TEMP_FUNCTION_SRI71MUPNA</td>\n",
       "      <td>ACCOUNTADMIN</td>\n",
       "      <td>(ARG1 FLOAT, ARG2 FLOAT)</td>\n",
       "      <td>FLOAT</td>\n",
       "      <td>NaN</td>\n",
       "      <td>NaN</td>\n",
       "      <td>NaN</td>\n",
       "      <td>NaN</td>\n",
       "      <td>...</td>\n",
       "      <td>NO</td>\n",
       "      <td>None</td>\n",
       "      <td>None</td>\n",
       "      <td>NaN</td>\n",
       "      <td>None</td>\n",
       "      <td>None</td>\n",
       "      <td>None</td>\n",
       "      <td>[\"@UDFDEMO.PUBLIC.SNOWPARK_TEMP_STAGE_DLSEP0J6...</td>\n",
       "      <td>compute</td>\n",
       "      <td>None</td>\n",
       "    </tr>\n",
       "    <tr>\n",
       "      <th>11</th>\n",
       "      <td>UDFDEMO</td>\n",
       "      <td>PUBLIC</td>\n",
       "      <td>SNOWPARK_TEMP_FUNCTION_XD93WH3462</td>\n",
       "      <td>ACCOUNTADMIN</td>\n",
       "      <td>(ARG1 FLOAT, ARG2 FLOAT)</td>\n",
       "      <td>FLOAT</td>\n",
       "      <td>NaN</td>\n",
       "      <td>NaN</td>\n",
       "      <td>NaN</td>\n",
       "      <td>NaN</td>\n",
       "      <td>...</td>\n",
       "      <td>NO</td>\n",
       "      <td>None</td>\n",
       "      <td>None</td>\n",
       "      <td>NaN</td>\n",
       "      <td>None</td>\n",
       "      <td>None</td>\n",
       "      <td>None</td>\n",
       "      <td>None</td>\n",
       "      <td>compute</td>\n",
       "      <td>None</td>\n",
       "    </tr>\n",
       "    <tr>\n",
       "      <th>12</th>\n",
       "      <td>UDFDEMO</td>\n",
       "      <td>PUBLIC</td>\n",
       "      <td>UDF_ADDNUMS</td>\n",
       "      <td>ACCOUNTADMIN</td>\n",
       "      <td>(ARG1 NUMBER, ARG2 FLOAT)</td>\n",
       "      <td>FLOAT</td>\n",
       "      <td>NaN</td>\n",
       "      <td>NaN</td>\n",
       "      <td>NaN</td>\n",
       "      <td>NaN</td>\n",
       "      <td>...</td>\n",
       "      <td>NO</td>\n",
       "      <td>None</td>\n",
       "      <td>None</td>\n",
       "      <td>NaN</td>\n",
       "      <td>None</td>\n",
       "      <td>None</td>\n",
       "      <td>None</td>\n",
       "      <td>[\"@UDFDEMO.PUBLIC.PYTHONUDFSTAGE/110a53a7991f2...</td>\n",
       "      <td>Numops.AddNums</td>\n",
       "      <td>None</td>\n",
       "    </tr>\n",
       "    <tr>\n",
       "      <th>13</th>\n",
       "      <td>UDFDEMO</td>\n",
       "      <td>PUBLIC</td>\n",
       "      <td>UDF_ADDNUMS_STAGE</td>\n",
       "      <td>ACCOUNTADMIN</td>\n",
       "      <td>(ARG1 NUMBER, ARG2 FLOAT)</td>\n",
       "      <td>FLOAT</td>\n",
       "      <td>NaN</td>\n",
       "      <td>NaN</td>\n",
       "      <td>NaN</td>\n",
       "      <td>NaN</td>\n",
       "      <td>...</td>\n",
       "      <td>NO</td>\n",
       "      <td>None</td>\n",
       "      <td>None</td>\n",
       "      <td>NaN</td>\n",
       "      <td>None</td>\n",
       "      <td>None</td>\n",
       "      <td>None</td>\n",
       "      <td>[\"@UDFDEMO.PUBLIC.PYTHONUDFSTAGE/110a53a7991f2...</td>\n",
       "      <td>Numops.AddNums</td>\n",
       "      <td>None</td>\n",
       "    </tr>\n",
       "    <tr>\n",
       "      <th>14</th>\n",
       "      <td>UDFDEMO</td>\n",
       "      <td>PUBLIC</td>\n",
       "      <td>UDF_BASICCALFUNCTION</td>\n",
       "      <td>ACCOUNTADMIN</td>\n",
       "      <td>(ARG1 FLOAT, ARG2 FLOAT, ARG3 VARCHAR)</td>\n",
       "      <td>FLOAT</td>\n",
       "      <td>NaN</td>\n",
       "      <td>NaN</td>\n",
       "      <td>NaN</td>\n",
       "      <td>NaN</td>\n",
       "      <td>...</td>\n",
       "      <td>NO</td>\n",
       "      <td>None</td>\n",
       "      <td>None</td>\n",
       "      <td>NaN</td>\n",
       "      <td>None</td>\n",
       "      <td>None</td>\n",
       "      <td>None</td>\n",
       "      <td>[\"@UDFDEMO.PUBLIC.NEWSTAGE/110a53a7991f246ebd3...</td>\n",
       "      <td>compute</td>\n",
       "      <td>None</td>\n",
       "    </tr>\n",
       "    <tr>\n",
       "      <th>15</th>\n",
       "      <td>UDFDEMO</td>\n",
       "      <td>PUBLIC</td>\n",
       "      <td>UDF_DIVNUMS</td>\n",
       "      <td>ACCOUNTADMIN</td>\n",
       "      <td>(ARG1 FLOAT, ARG2 FLOAT)</td>\n",
       "      <td>FLOAT</td>\n",
       "      <td>NaN</td>\n",
       "      <td>NaN</td>\n",
       "      <td>NaN</td>\n",
       "      <td>NaN</td>\n",
       "      <td>...</td>\n",
       "      <td>NO</td>\n",
       "      <td>None</td>\n",
       "      <td>None</td>\n",
       "      <td>NaN</td>\n",
       "      <td>None</td>\n",
       "      <td>None</td>\n",
       "      <td>None</td>\n",
       "      <td>[\"@UDFDEMO.PUBLIC.PYTHONUDFSTAGE/110a53a7991f2...</td>\n",
       "      <td>Numops.DivNums</td>\n",
       "      <td>None</td>\n",
       "    </tr>\n",
       "    <tr>\n",
       "      <th>16</th>\n",
       "      <td>UDFDEMO</td>\n",
       "      <td>PUBLIC</td>\n",
       "      <td>UDF_GETOPERATIONJSON</td>\n",
       "      <td>ACCOUNTADMIN</td>\n",
       "      <td>(ARG1 FLOAT, ARG2 FLOAT, ARG3 VARCHAR)</td>\n",
       "      <td>OBJECT</td>\n",
       "      <td>NaN</td>\n",
       "      <td>NaN</td>\n",
       "      <td>NaN</td>\n",
       "      <td>NaN</td>\n",
       "      <td>...</td>\n",
       "      <td>NO</td>\n",
       "      <td>None</td>\n",
       "      <td>None</td>\n",
       "      <td>NaN</td>\n",
       "      <td>None</td>\n",
       "      <td>None</td>\n",
       "      <td>None</td>\n",
       "      <td>[\"@UDFDEMO.PUBLIC.PYTHONSTAGE/110a53a7991f246e...</td>\n",
       "      <td>compute</td>\n",
       "      <td>None</td>\n",
       "    </tr>\n",
       "    <tr>\n",
       "      <th>17</th>\n",
       "      <td>UDFDEMO</td>\n",
       "      <td>PUBLIC</td>\n",
       "      <td>UDF_LOOKUPFUNCTION</td>\n",
       "      <td>ACCOUNTADMIN</td>\n",
       "      <td>(ARG1 FLOAT, ARG2 FLOAT)</td>\n",
       "      <td>FLOAT</td>\n",
       "      <td>NaN</td>\n",
       "      <td>NaN</td>\n",
       "      <td>NaN</td>\n",
       "      <td>NaN</td>\n",
       "      <td>...</td>\n",
       "      <td>NO</td>\n",
       "      <td>None</td>\n",
       "      <td>None</td>\n",
       "      <td>NaN</td>\n",
       "      <td>None</td>\n",
       "      <td>None</td>\n",
       "      <td>None</td>\n",
       "      <td>[\"@UDFDEMO.PUBLIC.PYTHONUDFSTAGE/c24df528a7513...</td>\n",
       "      <td>compute</td>\n",
       "      <td>None</td>\n",
       "    </tr>\n",
       "    <tr>\n",
       "      <th>18</th>\n",
       "      <td>UDFDEMO</td>\n",
       "      <td>PUBLIC</td>\n",
       "      <td>UDF_MULTIPLENUMS</td>\n",
       "      <td>ACCOUNTADMIN</td>\n",
       "      <td>(ARG1 FLOAT, ARG2 FLOAT)</td>\n",
       "      <td>FLOAT</td>\n",
       "      <td>NaN</td>\n",
       "      <td>NaN</td>\n",
       "      <td>NaN</td>\n",
       "      <td>NaN</td>\n",
       "      <td>...</td>\n",
       "      <td>NO</td>\n",
       "      <td>None</td>\n",
       "      <td>None</td>\n",
       "      <td>NaN</td>\n",
       "      <td>None</td>\n",
       "      <td>None</td>\n",
       "      <td>None</td>\n",
       "      <td>None</td>\n",
       "      <td>compute</td>\n",
       "      <td>None</td>\n",
       "    </tr>\n",
       "    <tr>\n",
       "      <th>19</th>\n",
       "      <td>UDFDEMO</td>\n",
       "      <td>PUBLIC</td>\n",
       "      <td>UDF_REGSITER_MULTIPLENUMS</td>\n",
       "      <td>ACCOUNTADMIN</td>\n",
       "      <td>(ARG1 FLOAT, ARG2 FLOAT)</td>\n",
       "      <td>FLOAT</td>\n",
       "      <td>NaN</td>\n",
       "      <td>NaN</td>\n",
       "      <td>NaN</td>\n",
       "      <td>NaN</td>\n",
       "      <td>...</td>\n",
       "      <td>NO</td>\n",
       "      <td>None</td>\n",
       "      <td>None</td>\n",
       "      <td>NaN</td>\n",
       "      <td>None</td>\n",
       "      <td>None</td>\n",
       "      <td>None</td>\n",
       "      <td>None</td>\n",
       "      <td>compute</td>\n",
       "      <td>None</td>\n",
       "    </tr>\n",
       "    <tr>\n",
       "      <th>20</th>\n",
       "      <td>UDFDEMO</td>\n",
       "      <td>PUBLIC</td>\n",
       "      <td>UDF_RESGITER_MULTIPLENUMS</td>\n",
       "      <td>ACCOUNTADMIN</td>\n",
       "      <td>(ARG1 FLOAT, ARG2 FLOAT)</td>\n",
       "      <td>FLOAT</td>\n",
       "      <td>NaN</td>\n",
       "      <td>NaN</td>\n",
       "      <td>NaN</td>\n",
       "      <td>NaN</td>\n",
       "      <td>...</td>\n",
       "      <td>NO</td>\n",
       "      <td>None</td>\n",
       "      <td>None</td>\n",
       "      <td>NaN</td>\n",
       "      <td>None</td>\n",
       "      <td>None</td>\n",
       "      <td>None</td>\n",
       "      <td>None</td>\n",
       "      <td>compute</td>\n",
       "      <td>None</td>\n",
       "    </tr>\n",
       "  </tbody>\n",
       "</table>\n",
       "<p>21 rows × 29 columns</p>\n",
       "</div>"
      ],
      "text/plain": [
       "   FUNCTION_CATALOG FUNCTION_SCHEMA                      FUNCTION_NAME  \\\n",
       "0           UDFDEMO          PUBLIC  SNOWPARK_TEMP_FUNCTION_1JEW784TXD   \n",
       "1           UDFDEMO          PUBLIC  SNOWPARK_TEMP_FUNCTION_9QDV2AMME6   \n",
       "2           UDFDEMO          PUBLIC  SNOWPARK_TEMP_FUNCTION_CP6CJQAVI7   \n",
       "3           UDFDEMO          PUBLIC  SNOWPARK_TEMP_FUNCTION_FHRGOF050D   \n",
       "4           UDFDEMO          PUBLIC  SNOWPARK_TEMP_FUNCTION_HUTMQRSKCL   \n",
       "5           UDFDEMO          PUBLIC  SNOWPARK_TEMP_FUNCTION_LDG4QW4B61   \n",
       "6           UDFDEMO          PUBLIC  SNOWPARK_TEMP_FUNCTION_Q4BWKVKMK5   \n",
       "7           UDFDEMO          PUBLIC  SNOWPARK_TEMP_FUNCTION_Q4OXZ053BR   \n",
       "8           UDFDEMO          PUBLIC  SNOWPARK_TEMP_FUNCTION_QQLYQV27T6   \n",
       "9           UDFDEMO          PUBLIC  SNOWPARK_TEMP_FUNCTION_SPFRC0HPVB   \n",
       "10          UDFDEMO          PUBLIC  SNOWPARK_TEMP_FUNCTION_SRI71MUPNA   \n",
       "11          UDFDEMO          PUBLIC  SNOWPARK_TEMP_FUNCTION_XD93WH3462   \n",
       "12          UDFDEMO          PUBLIC                        UDF_ADDNUMS   \n",
       "13          UDFDEMO          PUBLIC                  UDF_ADDNUMS_STAGE   \n",
       "14          UDFDEMO          PUBLIC               UDF_BASICCALFUNCTION   \n",
       "15          UDFDEMO          PUBLIC                        UDF_DIVNUMS   \n",
       "16          UDFDEMO          PUBLIC               UDF_GETOPERATIONJSON   \n",
       "17          UDFDEMO          PUBLIC                 UDF_LOOKUPFUNCTION   \n",
       "18          UDFDEMO          PUBLIC                   UDF_MULTIPLENUMS   \n",
       "19          UDFDEMO          PUBLIC          UDF_REGSITER_MULTIPLENUMS   \n",
       "20          UDFDEMO          PUBLIC          UDF_RESGITER_MULTIPLENUMS   \n",
       "\n",
       "   FUNCTION_OWNER                      ARGUMENT_SIGNATURE DATA_TYPE  \\\n",
       "0    ACCOUNTADMIN                (ARG1 FLOAT, ARG2 FLOAT)     FLOAT   \n",
       "1    ACCOUNTADMIN                (ARG1 FLOAT, ARG2 FLOAT)     FLOAT   \n",
       "2    ACCOUNTADMIN                (ARG1 FLOAT, ARG2 FLOAT)     FLOAT   \n",
       "3    ACCOUNTADMIN                (ARG1 FLOAT, ARG2 FLOAT)     FLOAT   \n",
       "4    ACCOUNTADMIN                (ARG1 FLOAT, ARG2 FLOAT)     FLOAT   \n",
       "5    ACCOUNTADMIN                (ARG1 FLOAT, ARG2 FLOAT)     FLOAT   \n",
       "6    ACCOUNTADMIN                (ARG1 FLOAT, ARG2 FLOAT)     FLOAT   \n",
       "7    ACCOUNTADMIN                            (ARG1 FLOAT)     FLOAT   \n",
       "8    ACCOUNTADMIN                (ARG1 FLOAT, ARG2 FLOAT)     FLOAT   \n",
       "9    ACCOUNTADMIN                (ARG1 FLOAT, ARG2 FLOAT)     FLOAT   \n",
       "10   ACCOUNTADMIN                (ARG1 FLOAT, ARG2 FLOAT)     FLOAT   \n",
       "11   ACCOUNTADMIN                (ARG1 FLOAT, ARG2 FLOAT)     FLOAT   \n",
       "12   ACCOUNTADMIN               (ARG1 NUMBER, ARG2 FLOAT)     FLOAT   \n",
       "13   ACCOUNTADMIN               (ARG1 NUMBER, ARG2 FLOAT)     FLOAT   \n",
       "14   ACCOUNTADMIN  (ARG1 FLOAT, ARG2 FLOAT, ARG3 VARCHAR)     FLOAT   \n",
       "15   ACCOUNTADMIN                (ARG1 FLOAT, ARG2 FLOAT)     FLOAT   \n",
       "16   ACCOUNTADMIN  (ARG1 FLOAT, ARG2 FLOAT, ARG3 VARCHAR)    OBJECT   \n",
       "17   ACCOUNTADMIN                (ARG1 FLOAT, ARG2 FLOAT)     FLOAT   \n",
       "18   ACCOUNTADMIN                (ARG1 FLOAT, ARG2 FLOAT)     FLOAT   \n",
       "19   ACCOUNTADMIN                (ARG1 FLOAT, ARG2 FLOAT)     FLOAT   \n",
       "20   ACCOUNTADMIN                (ARG1 FLOAT, ARG2 FLOAT)     FLOAT   \n",
       "\n",
       "    CHARACTER_MAXIMUM_LENGTH  CHARACTER_OCTET_LENGTH  NUMERIC_PRECISION  \\\n",
       "0                        NaN                     NaN                NaN   \n",
       "1                        NaN                     NaN                NaN   \n",
       "2                        NaN                     NaN                NaN   \n",
       "3                        NaN                     NaN                NaN   \n",
       "4                        NaN                     NaN                NaN   \n",
       "5                        NaN                     NaN                NaN   \n",
       "6                        NaN                     NaN                NaN   \n",
       "7                        NaN                     NaN                NaN   \n",
       "8                        NaN                     NaN                NaN   \n",
       "9                        NaN                     NaN                NaN   \n",
       "10                       NaN                     NaN                NaN   \n",
       "11                       NaN                     NaN                NaN   \n",
       "12                       NaN                     NaN                NaN   \n",
       "13                       NaN                     NaN                NaN   \n",
       "14                       NaN                     NaN                NaN   \n",
       "15                       NaN                     NaN                NaN   \n",
       "16                       NaN                     NaN                NaN   \n",
       "17                       NaN                     NaN                NaN   \n",
       "18                       NaN                     NaN                NaN   \n",
       "19                       NaN                     NaN                NaN   \n",
       "20                       NaN                     NaN                NaN   \n",
       "\n",
       "    NUMERIC_PRECISION_RADIX  ...  IS_EXTERNAL API_INTEGRATION CONTEXT_HEADERS  \\\n",
       "0                       NaN  ...           NO            None            None   \n",
       "1                       NaN  ...           NO            None            None   \n",
       "2                       NaN  ...           NO            None            None   \n",
       "3                       NaN  ...           NO            None            None   \n",
       "4                       NaN  ...           NO            None            None   \n",
       "5                       NaN  ...           NO            None            None   \n",
       "6                       NaN  ...           NO            None            None   \n",
       "7                       NaN  ...           NO            None            None   \n",
       "8                       NaN  ...           NO            None            None   \n",
       "9                       NaN  ...           NO            None            None   \n",
       "10                      NaN  ...           NO            None            None   \n",
       "11                      NaN  ...           NO            None            None   \n",
       "12                      NaN  ...           NO            None            None   \n",
       "13                      NaN  ...           NO            None            None   \n",
       "14                      NaN  ...           NO            None            None   \n",
       "15                      NaN  ...           NO            None            None   \n",
       "16                      NaN  ...           NO            None            None   \n",
       "17                      NaN  ...           NO            None            None   \n",
       "18                      NaN  ...           NO            None            None   \n",
       "19                      NaN  ...           NO            None            None   \n",
       "20                      NaN  ...           NO            None            None   \n",
       "\n",
       "   MAX_BATCH_ROWS REQUEST_TRANSLATOR RESPONSE_TRANSLATOR COMPRESSION  \\\n",
       "0             NaN               None                None        None   \n",
       "1             NaN               None                None        None   \n",
       "2             NaN               None                None        None   \n",
       "3             NaN               None                None        None   \n",
       "4             NaN               None                None        None   \n",
       "5             NaN               None                None        None   \n",
       "6             NaN               None                None        None   \n",
       "7             NaN               None                None        None   \n",
       "8             NaN               None                None        None   \n",
       "9             NaN               None                None        None   \n",
       "10            NaN               None                None        None   \n",
       "11            NaN               None                None        None   \n",
       "12            NaN               None                None        None   \n",
       "13            NaN               None                None        None   \n",
       "14            NaN               None                None        None   \n",
       "15            NaN               None                None        None   \n",
       "16            NaN               None                None        None   \n",
       "17            NaN               None                None        None   \n",
       "18            NaN               None                None        None   \n",
       "19            NaN               None                None        None   \n",
       "20            NaN               None                None        None   \n",
       "\n",
       "                                              IMPORTS         HANDLER  \\\n",
       "0   [\"@UDFDEMO.PUBLIC.SNOWPARK_TEMP_STAGE_DLSEP0J6...         compute   \n",
       "1                                                None         compute   \n",
       "2                                                None         compute   \n",
       "3   [\"@UDFDEMO.PUBLIC.SNOWPARK_TEMP_STAGE_DLSEP0J6...         compute   \n",
       "4   [\"@UDFDEMO.PUBLIC.SNOWPARK_TEMP_STAGE_DLSEP0J6...         compute   \n",
       "5   [\"@UDFDEMO.PUBLIC.SNOWPARK_TEMP_STAGE_DLSEP0J6...         compute   \n",
       "6   [\"@UDFDEMO.PUBLIC.SNOWPARK_TEMP_STAGE_DLSEP0J6...         compute   \n",
       "7   [\"@UDFDEMO.PUBLIC.SNOWPARK_TEMP_STAGE_DLSEP0J6...         compute   \n",
       "8                                                None         compute   \n",
       "9   [\"@UDFDEMO.PUBLIC.SNOWPARK_TEMP_STAGE_DLSEP0J6...         compute   \n",
       "10  [\"@UDFDEMO.PUBLIC.SNOWPARK_TEMP_STAGE_DLSEP0J6...         compute   \n",
       "11                                               None         compute   \n",
       "12  [\"@UDFDEMO.PUBLIC.PYTHONUDFSTAGE/110a53a7991f2...  Numops.AddNums   \n",
       "13  [\"@UDFDEMO.PUBLIC.PYTHONUDFSTAGE/110a53a7991f2...  Numops.AddNums   \n",
       "14  [\"@UDFDEMO.PUBLIC.NEWSTAGE/110a53a7991f246ebd3...         compute   \n",
       "15  [\"@UDFDEMO.PUBLIC.PYTHONUDFSTAGE/110a53a7991f2...  Numops.DivNums   \n",
       "16  [\"@UDFDEMO.PUBLIC.PYTHONSTAGE/110a53a7991f246e...         compute   \n",
       "17  [\"@UDFDEMO.PUBLIC.PYTHONUDFSTAGE/c24df528a7513...         compute   \n",
       "18                                               None         compute   \n",
       "19                                               None         compute   \n",
       "20                                               None         compute   \n",
       "\n",
       "   TARGET_PATH  \n",
       "0         None  \n",
       "1         None  \n",
       "2         None  \n",
       "3         None  \n",
       "4         None  \n",
       "5         None  \n",
       "6         None  \n",
       "7         None  \n",
       "8         None  \n",
       "9         None  \n",
       "10        None  \n",
       "11        None  \n",
       "12        None  \n",
       "13        None  \n",
       "14        None  \n",
       "15        None  \n",
       "16        None  \n",
       "17        None  \n",
       "18        None  \n",
       "19        None  \n",
       "20        None  \n",
       "\n",
       "[21 rows x 29 columns]"
      ]
     },
     "execution_count": 133,
     "metadata": {},
     "output_type": "execute_result"
    }
   ],
   "source": [
    "session.sql(\"select * from information_schema.functions\").toPandas()"
   ]
  },
  {
   "cell_type": "code",
   "execution_count": null,
   "id": "6ccc1273-8d9c-428b-b1e0-c4e7ab3fb487",
   "metadata": {},
   "outputs": [],
   "source": [
    "session.sql(\"list @pythonudfstage\").collect()"
   ]
  },
  {
   "cell_type": "code",
   "execution_count": 134,
   "id": "a364e854-713b-4d61-81b0-add04d987ac1",
   "metadata": {},
   "outputs": [
    {
     "data": {
      "text/plain": [
       "['/Users/praj/Documents/GitHub/snowpark-python-examples/Fraud-Detection-Demo/utils']"
      ]
     },
     "execution_count": 134,
     "metadata": {},
     "output_type": "execute_result"
    }
   ],
   "source": [
    "session.get_imports()\n",
    "# session.clear_imports()"
   ]
  },
  {
   "cell_type": "code",
   "execution_count": null,
   "id": "d9d4219e-8184-416a-82db-06dd8e3b0ab9",
   "metadata": {},
   "outputs": [],
   "source": [
    "session.file.get(\"@newstage/8abbbb3422c34e6d24fcbe8094ee740d/MathCalculations.py.zip\", \"/Users/praj/Documents/\")"
   ]
  },
  {
   "cell_type": "code",
   "execution_count": 137,
   "id": "9d1559e3-abc3-4f86-98d9-e2dab86d5065",
   "metadata": {},
   "outputs": [
    {
     "data": {
      "text/plain": [
       "[Row(name='newstage/110a53a7991f246ebd3b562f19b14dda/utils.zip', size=2288, md5='872a48b833f28b2d663b1a1c9e09c6b0', last_modified='Mon, 2 May 2022 08:21:06 GMT')]"
      ]
     },
     "execution_count": 137,
     "metadata": {},
     "output_type": "execute_result"
    }
   ],
   "source": [
    "session.sql('list @newstage').collect()"
   ]
  },
  {
   "cell_type": "markdown",
   "id": "a0edfcc4-4a7d-4f10-a981-d079e93f1708",
   "metadata": {},
   "source": [
    "### Including Packages"
   ]
  },
  {
   "cell_type": "code",
   "execution_count": 63,
   "id": "2432483b-d6df-43a3-bc21-8c7f86dc961e",
   "metadata": {},
   "outputs": [],
   "source": [
    "from snowflake.snowpark.functions import udf\n",
    "import numpy as np\n",
    "import math\n",
    "@udf(packages=[\"numpy\"])\n",
    "def exp_udf(x: float) -> float:\n",
    "    return np.exp(x)\n"
   ]
  },
  {
   "cell_type": "code",
   "execution_count": 64,
   "id": "69ac07d1-1a36-49df-9786-0b5239bff2db",
   "metadata": {},
   "outputs": [
    {
     "name": "stdout",
     "output_type": "stream",
     "text": [
      "------------------------------------------------------\n",
      "|\"\"\"UDFDEMO\"\".\"\"PUBLIC\"\".SNOWPARK_TEMP_FUNCTION_...  |\n",
      "------------------------------------------------------\n",
      "|22026.465794806718                                  |\n",
      "|10686474581524.463                                  |\n",
      "------------------------------------------------------\n",
      "\n"
     ]
    }
   ],
   "source": [
    "df.select(exp_udf(\"Col1\")).show()"
   ]
  },
  {
   "cell_type": "code",
   "execution_count": 139,
   "id": "0887722a-b64d-4542-8aad-9d0f0a85223b",
   "metadata": {},
   "outputs": [
    {
     "name": "stdout",
     "output_type": "stream",
     "text": [
      "['\"UDFDEMO\".\"PUBLIC\".SNOWPARK_TEMP_FUNCTION_Q4OXZ053BR(\"COL\")']\n"
     ]
    }
   ],
   "source": [
    "df11 = session.create_dataframe([f for f in range(1,6)], schema=[\"Col\"])\n",
    "print([f for f in df11.select(exp_udf(\"Col\")).toPandas()])"
   ]
  },
  {
   "cell_type": "code",
   "execution_count": 140,
   "id": "faa74bf2-bc43-40a5-b0e3-fd0acd2fd024",
   "metadata": {},
   "outputs": [
    {
     "name": "stdout",
     "output_type": "stream",
     "text": [
      "Temp Function Name = SNOWPARK_TEMP_FUNCTION_Q4OXZ053BR\n"
     ]
    },
    {
     "data": {
      "text/plain": [
       "0    (ARG1 FLOAT)\n",
       "Name: ARGUMENT_SIGNATURE, dtype: object"
      ]
     },
     "execution_count": 140,
     "metadata": {},
     "output_type": "execute_result"
    }
   ],
   "source": [
    "function_name=[f.split('.')[2] for f in df11.select(exp_udf(\"Col\")).toPandas()][0].split('(')[0]\n",
    "print(f\"Temp Function Name = {function_name}\")\n",
    "\n",
    "function_query=f\"select * from information_schema.functions  where function_name='{function_name}'\"\n",
    "\n",
    "red= session.sql(function_query).toPandas()\n",
    "red['ARGUMENT_SIGNATURE']"
   ]
  },
  {
   "cell_type": "code",
   "execution_count": 141,
   "id": "932e25af-b4c9-4040-8aaf-38f0e165ce23",
   "metadata": {},
   "outputs": [
    {
     "name": "stdout",
     "output_type": "stream",
     "text": [
      "select get_ddl('function', 'SNOWPARK_TEMP_FUNCTION_Q4OXZ053BR(float)')\n"
     ]
    },
    {
     "data": {
      "text/plain": [
       "[Row(GET_DDL('FUNCTION', 'SNOWPARK_TEMP_FUNCTION_Q4OXZ053BR(FLOAT)')='CREATE OR REPLACE FUNCTION \"SNOWPARK_TEMP_FUNCTION_Q4OXZ053BR\"(\"ARG1\" FLOAT)\\nRETURNS FLOAT\\nLANGUAGE PYTHON\\nRUNTIME_VERSION = \\'3.8\\'\\nPACKAGES = (\\'numpy\\',\\'cloudpickle==2.0.0\\')\\nHANDLER = \\'compute\\'\\nIMPORTS = (\\'@UDFDEMO.PUBLIC.SNOWPARK_TEMP_STAGE_DLSEP0J6AU/110a53a7991f246ebd3b562f19b14dda/utils.zip\\')\\nAS \\'\\nimport pickle\\n\\nfunc = pickle.loads(bytes.fromhex(\\'\\'8005951a020000000000008c17636c6f75647069636b6c652e636c6f75647069636b6c65948c0d5f6275696c74696e5f747970659493948c0a4c616d6264615479706594859452942868028c08436f6465547970659485945294284b014b004b004b014b034b43430a7400a0017c00a1015300944e85948c026e70948c036578709486948c01789485948c4e2f7661722f666f6c646572732f73642f6a36676a707a6d64306762396c6a7a686d6c737a7873633830303030676e2f542f6970796b65726e656c5f38373130352f323236333130343037312e7079948c076578705f756466944b0443020002942929749452947d94288c0b5f5f7061636b6167655f5f944e8c085f5f6e616d655f5f948c085f5f6d61696e5f5f94754e4e4e749452948c1c636c6f75647069636b6c652e636c6f75647069636b6c655f66617374948c125f66756e6374696f6e5f7365747374617465949394681a7d947d9428681768118c0c5f5f7175616c6e616d655f5f9468118c0f5f5f616e6e6f746174696f6e735f5f947d948c0e5f5f6b7764656661756c74735f5f944e8c0c5f5f64656661756c74735f5f944e8c0a5f5f6d6f64756c655f5f9468188c075f5f646f635f5f944e8c0b5f5f636c6f737572655f5f944e8c175f636c6f75647069636b6c655f7375626d6f64756c6573945d948c0b5f5f676c6f62616c735f5f947d94680b68008c09737562696d706f72749493948c056e756d70799485945294737586948652302e\\'\\'))\\n\\ndef compute(arg1):\\n    return func(arg1)\\n\\';')]"
      ]
     },
     "execution_count": 141,
     "metadata": {},
     "output_type": "execute_result"
    }
   ],
   "source": [
    "# function_name=df.select(exp_udf(\"Col\")).toPandas().columns[0]\n",
    "ddl_query=f\"select get_ddl('function', '{function_name}(float)')\" \n",
    "print(ddl_query)\n",
    "session.sql(ddl_query).collect()\n",
    "# session.sql(function_query).toPandas()"
   ]
  },
  {
   "cell_type": "code",
   "execution_count": 142,
   "id": "c3468ce1-e445-4005-9c71-76a64d986264",
   "metadata": {},
   "outputs": [
    {
     "data": {
      "text/plain": [
       "[PutResult(source='MathCalculations.py', target='MathCalculations.py', source_size=262, target_size=272, source_compression='NONE', target_compression='NONE', status='UPLOADED', message='')]"
      ]
     },
     "execution_count": 142,
     "metadata": {},
     "output_type": "execute_result"
    }
   ],
   "source": [
    "session.sql(\"create stage if not exists pythonstage\").collect()\n",
    "session.file.put(\"utils/MathCalculations.py\", \"@pythonstage\", auto_compress=False,overwrite=True)"
   ]
  },
  {
   "cell_type": "code",
   "execution_count": 143,
   "id": "2a32638a-093e-434c-8ae6-61d2ebffaba5",
   "metadata": {},
   "outputs": [],
   "source": [
    "from utils.MathCalculations import BasicOperations as bo\n",
    "\"\"\"\n",
    "Value for Operations paramter:\n",
    "                        Add\n",
    "                        Sub\n",
    "                        Mul\n",
    "                        Div\n",
    "\"\"\"\n",
    "operationfunctiondict ={ \\\n",
    "                        'Add':'AddNums',\n",
    "                        'Sub':'SubNums',\n",
    "                        'Mul':'MulNums',\n",
    "                        'Div':'DivNums'\n",
    "                        }\n",
    "\n",
    "def performcalculation(val1:float, val2:float,operation:str)-> object:\n",
    "    res={}\n",
    "    if operation in ('Add','Sub','Mul','Div'):\n",
    "        res['FunctionName']=operationfunctiondict[operation]\n",
    "        ops=getattr(bo,operationfunctiondict[operation]) \n",
    "        res['value']=ops(val1,val2)\n",
    "    else:\n",
    "        res = None\n",
    "    return res\n"
   ]
  },
  {
   "cell_type": "code",
   "execution_count": 74,
   "id": "814bfcc7-9c5c-42e6-8564-b91afa9e67cd",
   "metadata": {},
   "outputs": [
    {
     "name": "stdout",
     "output_type": "stream",
     "text": [
      "{'FunctionName': 'MulNums', 'value': 200}\n"
     ]
    }
   ],
   "source": [
    "print(performcalculation(10,20,'Mul'))"
   ]
  },
  {
   "cell_type": "code",
   "execution_count": 75,
   "id": "9ed06b2d-b3d6-4b2f-a961-825ebbcfc363",
   "metadata": {},
   "outputs": [],
   "source": [
    "# session.add_import(\"utils/MathCalculations.py\", import_path=\"utils/MathCalculations\")"
   ]
  },
  {
   "cell_type": "code",
   "execution_count": 146,
   "id": "11ac2d42-7a76-48df-80e8-3b5d3d8cf510",
   "metadata": {},
   "outputs": [],
   "source": [
    "@udf(name='udf_getoperationJson',stage_location='@pythonstage',replace=True,is_permanent=True)\n",
    "def getoperationJson(v1: float,v2:float,operation:str) -> dict:\n",
    "    return performcalculation(v1,v2,operation)"
   ]
  },
  {
   "cell_type": "code",
   "execution_count": 163,
   "id": "3b19d2c5-983a-4dd1-869c-998f529524fe",
   "metadata": {},
   "outputs": [
    {
     "data": {
      "text/html": [
       "<div>\n",
       "<style scoped>\n",
       "    .dataframe tbody tr th:only-of-type {\n",
       "        vertical-align: middle;\n",
       "    }\n",
       "\n",
       "    .dataframe tbody tr th {\n",
       "        vertical-align: top;\n",
       "    }\n",
       "\n",
       "    .dataframe thead th {\n",
       "        text-align: right;\n",
       "    }\n",
       "</style>\n",
       "<table border=\"1\" class=\"dataframe\">\n",
       "  <thead>\n",
       "    <tr style=\"text-align: right;\">\n",
       "      <th></th>\n",
       "      <th>COL1</th>\n",
       "      <th>COL2</th>\n",
       "    </tr>\n",
       "  </thead>\n",
       "  <tbody>\n",
       "    <tr>\n",
       "      <th>0</th>\n",
       "      <td>10</td>\n",
       "      <td>20</td>\n",
       "    </tr>\n",
       "    <tr>\n",
       "      <th>1</th>\n",
       "      <td>30</td>\n",
       "      <td>40</td>\n",
       "    </tr>\n",
       "    <tr>\n",
       "      <th>2</th>\n",
       "      <td>60</td>\n",
       "      <td>70</td>\n",
       "    </tr>\n",
       "  </tbody>\n",
       "</table>\n",
       "</div>"
      ],
      "text/plain": [
       "   COL1  COL2\n",
       "0    10    20\n",
       "1    30    40\n",
       "2    60    70"
      ]
     },
     "execution_count": 163,
     "metadata": {},
     "output_type": "execute_result"
    }
   ],
   "source": [
    "df.toPandas()"
   ]
  },
  {
   "cell_type": "code",
   "execution_count": 162,
   "id": "3ed75bc2-17ab-495f-8829-cf7aeefbe9df",
   "metadata": {},
   "outputs": [
    {
     "data": {
      "text/html": [
       "<div>\n",
       "<style scoped>\n",
       "    .dataframe tbody tr th:only-of-type {\n",
       "        vertical-align: middle;\n",
       "    }\n",
       "\n",
       "    .dataframe tbody tr th {\n",
       "        vertical-align: top;\n",
       "    }\n",
       "\n",
       "    .dataframe thead th {\n",
       "        text-align: right;\n",
       "    }\n",
       "</style>\n",
       "<table border=\"1\" class=\"dataframe\">\n",
       "  <thead>\n",
       "    <tr style=\"text-align: right;\">\n",
       "      <th></th>\n",
       "      <th>COL1</th>\n",
       "      <th>COL2</th>\n",
       "      <th>ADDJSON</th>\n",
       "    </tr>\n",
       "  </thead>\n",
       "  <tbody>\n",
       "    <tr>\n",
       "      <th>0</th>\n",
       "      <td>10</td>\n",
       "      <td>20</td>\n",
       "      <td>{\\n  \"FunctionName\": \"AddNums\",\\n  \"value\": 30\\n}</td>\n",
       "    </tr>\n",
       "    <tr>\n",
       "      <th>1</th>\n",
       "      <td>30</td>\n",
       "      <td>40</td>\n",
       "      <td>{\\n  \"FunctionName\": \"AddNums\",\\n  \"value\": 70\\n}</td>\n",
       "    </tr>\n",
       "    <tr>\n",
       "      <th>2</th>\n",
       "      <td>60</td>\n",
       "      <td>70</td>\n",
       "      <td>{\\n  \"FunctionName\": \"AddNums\",\\n  \"value\": 13...</td>\n",
       "    </tr>\n",
       "  </tbody>\n",
       "</table>\n",
       "</div>"
      ],
      "text/plain": [
       "   COL1  COL2                                            ADDJSON\n",
       "0    10    20  {\\n  \"FunctionName\": \"AddNums\",\\n  \"value\": 30\\n}\n",
       "1    30    40  {\\n  \"FunctionName\": \"AddNums\",\\n  \"value\": 70\\n}\n",
       "2    60    70  {\\n  \"FunctionName\": \"AddNums\",\\n  \"value\": 13..."
      ]
     },
     "execution_count": 162,
     "metadata": {},
     "output_type": "execute_result"
    }
   ],
   "source": [
    "df.select(df.Col1,df.Col2,udf_getoperationJson(df.col1,df.col2,lit('Add')).alias(\"AddJson\")).toPandas()"
   ]
  },
  {
   "cell_type": "code",
   "execution_count": 164,
   "id": "250f5d8a-7b03-40a2-8c90-216bcbcee441",
   "metadata": {},
   "outputs": [],
   "source": [
    "df_res=df.select(df.Col1,df.Col2,udf_getoperationJson(df.col1,df.col2,lit('Add')).alias(\"AddJson\"), \\\n",
    "          udf_getoperationJson(df.col1,df.col2,lit('Mul')).alias(\"MultiplyJson\"))"
   ]
  },
  {
   "cell_type": "code",
   "execution_count": 165,
   "id": "d6e34015-2d78-4e03-aba7-bc3ec6bfb162",
   "metadata": {},
   "outputs": [
    {
     "data": {
      "text/html": [
       "<div>\n",
       "<style scoped>\n",
       "    .dataframe tbody tr th:only-of-type {\n",
       "        vertical-align: middle;\n",
       "    }\n",
       "\n",
       "    .dataframe tbody tr th {\n",
       "        vertical-align: top;\n",
       "    }\n",
       "\n",
       "    .dataframe thead th {\n",
       "        text-align: right;\n",
       "    }\n",
       "</style>\n",
       "<table border=\"1\" class=\"dataframe\">\n",
       "  <thead>\n",
       "    <tr style=\"text-align: right;\">\n",
       "      <th></th>\n",
       "      <th>COL1</th>\n",
       "      <th>COL2</th>\n",
       "      <th>ADDJSON</th>\n",
       "      <th>MULTIPLYJSON</th>\n",
       "    </tr>\n",
       "  </thead>\n",
       "  <tbody>\n",
       "    <tr>\n",
       "      <th>0</th>\n",
       "      <td>10</td>\n",
       "      <td>20</td>\n",
       "      <td>{\\n  \"FunctionName\": \"AddNums\",\\n  \"value\": 30\\n}</td>\n",
       "      <td>{\\n  \"FunctionName\": \"MulNums\",\\n  \"value\": 20...</td>\n",
       "    </tr>\n",
       "    <tr>\n",
       "      <th>1</th>\n",
       "      <td>30</td>\n",
       "      <td>40</td>\n",
       "      <td>{\\n  \"FunctionName\": \"AddNums\",\\n  \"value\": 70\\n}</td>\n",
       "      <td>{\\n  \"FunctionName\": \"MulNums\",\\n  \"value\": 12...</td>\n",
       "    </tr>\n",
       "    <tr>\n",
       "      <th>2</th>\n",
       "      <td>60</td>\n",
       "      <td>70</td>\n",
       "      <td>{\\n  \"FunctionName\": \"AddNums\",\\n  \"value\": 13...</td>\n",
       "      <td>{\\n  \"FunctionName\": \"MulNums\",\\n  \"value\": 42...</td>\n",
       "    </tr>\n",
       "  </tbody>\n",
       "</table>\n",
       "</div>"
      ],
      "text/plain": [
       "   COL1  COL2                                            ADDJSON  \\\n",
       "0    10    20  {\\n  \"FunctionName\": \"AddNums\",\\n  \"value\": 30\\n}   \n",
       "1    30    40  {\\n  \"FunctionName\": \"AddNums\",\\n  \"value\": 70\\n}   \n",
       "2    60    70  {\\n  \"FunctionName\": \"AddNums\",\\n  \"value\": 13...   \n",
       "\n",
       "                                        MULTIPLYJSON  \n",
       "0  {\\n  \"FunctionName\": \"MulNums\",\\n  \"value\": 20...  \n",
       "1  {\\n  \"FunctionName\": \"MulNums\",\\n  \"value\": 12...  \n",
       "2  {\\n  \"FunctionName\": \"MulNums\",\\n  \"value\": 42...  "
      ]
     },
     "execution_count": 165,
     "metadata": {},
     "output_type": "execute_result"
    }
   ],
   "source": [
    "df_res.toPandas()"
   ]
  },
  {
   "cell_type": "code",
   "execution_count": 85,
   "id": "79426f1a-5f43-4616-b8e2-886a6f58677f",
   "metadata": {},
   "outputs": [],
   "source": [
    "df_res.write.mode(\"overwrite\").saveAsTable(\"UDF_TABLE\")"
   ]
  },
  {
   "cell_type": "code",
   "execution_count": 166,
   "id": "2a0425e6-d365-4084-84e8-b33e861f008b",
   "metadata": {},
   "outputs": [
    {
     "data": {
      "text/html": [
       "<div>\n",
       "<style scoped>\n",
       "    .dataframe tbody tr th:only-of-type {\n",
       "        vertical-align: middle;\n",
       "    }\n",
       "\n",
       "    .dataframe tbody tr th {\n",
       "        vertical-align: top;\n",
       "    }\n",
       "\n",
       "    .dataframe thead th {\n",
       "        text-align: right;\n",
       "    }\n",
       "</style>\n",
       "<table border=\"1\" class=\"dataframe\">\n",
       "  <thead>\n",
       "    <tr style=\"text-align: right;\">\n",
       "      <th></th>\n",
       "      <th>COL1</th>\n",
       "      <th>COL2</th>\n",
       "      <th>ADDJSON</th>\n",
       "      <th>MULTIPLYJSON</th>\n",
       "    </tr>\n",
       "  </thead>\n",
       "  <tbody>\n",
       "    <tr>\n",
       "      <th>0</th>\n",
       "      <td>30</td>\n",
       "      <td>40</td>\n",
       "      <td>{\\n  \"FunctionName\": \"AddNums\",\\n  \"value\": 70\\n}</td>\n",
       "      <td>{\\n  \"FunctionName\": \"MulNums\",\\n  \"value\": 12...</td>\n",
       "    </tr>\n",
       "    <tr>\n",
       "      <th>1</th>\n",
       "      <td>10</td>\n",
       "      <td>20</td>\n",
       "      <td>{\\n  \"FunctionName\": \"AddNums\",\\n  \"value\": 30\\n}</td>\n",
       "      <td>{\\n  \"FunctionName\": \"MulNums\",\\n  \"value\": 20...</td>\n",
       "    </tr>\n",
       "  </tbody>\n",
       "</table>\n",
       "</div>"
      ],
      "text/plain": [
       "   COL1  COL2                                            ADDJSON  \\\n",
       "0    30    40  {\\n  \"FunctionName\": \"AddNums\",\\n  \"value\": 70\\n}   \n",
       "1    10    20  {\\n  \"FunctionName\": \"AddNums\",\\n  \"value\": 30\\n}   \n",
       "\n",
       "                                        MULTIPLYJSON  \n",
       "0  {\\n  \"FunctionName\": \"MulNums\",\\n  \"value\": 12...  \n",
       "1  {\\n  \"FunctionName\": \"MulNums\",\\n  \"value\": 20...  "
      ]
     },
     "execution_count": 166,
     "metadata": {},
     "output_type": "execute_result"
    }
   ],
   "source": [
    "session.sql(\"select * from UDF_TABLE;\").toPandas()"
   ]
  },
  {
   "cell_type": "code",
   "execution_count": 167,
   "id": "bac618b8-613c-4ece-816c-c5661d6b25b6",
   "metadata": {},
   "outputs": [
    {
     "data": {
      "text/html": [
       "<div>\n",
       "<style scoped>\n",
       "    .dataframe tbody tr th:only-of-type {\n",
       "        vertical-align: middle;\n",
       "    }\n",
       "\n",
       "    .dataframe tbody tr th {\n",
       "        vertical-align: top;\n",
       "    }\n",
       "\n",
       "    .dataframe thead th {\n",
       "        text-align: right;\n",
       "    }\n",
       "</style>\n",
       "<table border=\"1\" class=\"dataframe\">\n",
       "  <thead>\n",
       "    <tr style=\"text-align: right;\">\n",
       "      <th></th>\n",
       "      <th>COL1</th>\n",
       "      <th>COL2</th>\n",
       "      <th>SUMOFVALUES</th>\n",
       "      <th>PRODUCTOFVALUES</th>\n",
       "    </tr>\n",
       "  </thead>\n",
       "  <tbody>\n",
       "    <tr>\n",
       "      <th>0</th>\n",
       "      <td>30</td>\n",
       "      <td>40</td>\n",
       "      <td>70</td>\n",
       "      <td>1200</td>\n",
       "    </tr>\n",
       "    <tr>\n",
       "      <th>1</th>\n",
       "      <td>10</td>\n",
       "      <td>20</td>\n",
       "      <td>30</td>\n",
       "      <td>200</td>\n",
       "    </tr>\n",
       "  </tbody>\n",
       "</table>\n",
       "</div>"
      ],
      "text/plain": [
       "   COL1  COL2  SUMOFVALUES  PRODUCTOFVALUES\n",
       "0    30    40           70             1200\n",
       "1    10    20           30              200"
      ]
     },
     "execution_count": 167,
     "metadata": {},
     "output_type": "execute_result"
    }
   ],
   "source": [
    "session.sql(\"select COL1,COL2, \\\n",
    "                ADDJSON:value::int as SumofValues,\\\n",
    "                multiplyjson:value::int as ProductofValues \\\n",
    "             from UDF_TABLE;\").toPandas()"
   ]
  }
 ],
 "metadata": {
  "kernelspec": {
   "display_name": "Python 3 (ipykernel)",
   "language": "python",
   "name": "python3"
  },
  "language_info": {
   "codemirror_mode": {
    "name": "ipython",
    "version": 3
   },
   "file_extension": ".py",
   "mimetype": "text/x-python",
   "name": "python",
   "nbconvert_exporter": "python",
   "pygments_lexer": "ipython3",
   "version": "3.8.13"
  },
  "toc-showcode": false
 },
 "nbformat": 4,
 "nbformat_minor": 5
}
